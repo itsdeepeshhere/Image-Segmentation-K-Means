{
 "cells": [
  {
   "cell_type": "code",
   "execution_count": 8,
   "metadata": {},
   "outputs": [
    {
     "name": "stdout",
     "output_type": "stream",
     "text": [
      "Creating image by K = 2\n",
      "Creating image by K = 5\n",
      "Creating image by K = 10\n",
      "Hurray!It's Done!\n"
     ]
    }
   ],
   "source": [
    "import numpy\n",
    "import math\n",
    "import random\n",
    "from PIL import Image\n",
    "import random\n",
    "import sys\n",
    "import operator\n",
    "import os\n",
    "\n",
    "\n",
    "image_path = 'C:\\\\Users\\\\OS\\\\imageseg_folder\\\\inputimg.jpg'\n",
    "image_name = \"inputimg\"\n",
    "image=Image.open(image_path,'r')\n",
    "width, height=image.size\n",
    "imagePixels=list(image.getdata())\n",
    "\n",
    "for K in ( 2, 5, 10):\n",
    "    print(\"Segmenting image by K = {}\".format(K))\n",
    "    \n",
    "    initial_centers = set()\n",
    "    for x in range(K):\n",
    "        initial_centers.add(imagePixels[random.randint(0,len(imagePixels)-1)])\n",
    "\n",
    "    \n",
    "    old_centers = set()\n",
    "    new_centers = initial_centers\n",
    "   \n",
    "    while old_centers != new_centers:\n",
    "        old_centers = new_centers\n",
    "        clusterDict = dict([(key, []) for key in new_centers])\n",
    "        \n",
    "        for eachPixelTupleIndex in range(len(imagePixels)):\n",
    "            distanceDict={}\n",
    "            for eachCenter in new_centers:\n",
    "                pixelValues=imagePixels[eachPixelTupleIndex]\n",
    "                distanceList= numpy.subtract(pixelValues,eachCenter)\n",
    "                distance=0\n",
    "                for eachNumber in distanceList:\n",
    "                    distance+=eachNumber**2\n",
    "                distance= math.sqrt(distance)\n",
    "                distanceDict[eachCenter]=distance\n",
    "            \n",
    "            bestCenter=min(distanceDict.items(), key=operator.itemgetter(1))[0]\n",
    "            clusterDict[bestCenter].append(eachPixelTupleIndex)\n",
    "\n",
    "    \n",
    "        new_centers = set()\n",
    "        for center in clusterDict:\n",
    "            new_center_temp = (0,0,0)\n",
    "            for pixelIndex in clusterDict[center]:\n",
    "                new_center_temp = tuple(map(operator.add, new_center_temp, imagePixels[pixelIndex]))\n",
    "            new_center = tuple(map(lambda x: int(x/len(clusterDict[center])), new_center_temp))\n",
    "            new_centers.add(new_center)\n",
    "    newIm = Image.new(\"RGB\", (width, height))\n",
    "    pix = newIm.load()\n",
    "    for i in range(1, height+1):\n",
    "        for j in range(width):\n",
    "            for center in clusterDict:\n",
    "                if ((i - 1) * width + j) in clusterDict[center]:\n",
    "                    pix[j,i-1] = center\n",
    "    newIm.save(\"segmented_{}_K{}.png\".format(image_name, K), \"PNG\")\n",
    "\n",
    "print(\"Hurray!It's Done!\")"
   ]
  },
  {
   "cell_type": "code",
   "execution_count": null,
   "metadata": {},
   "outputs": [],
   "source": []
  }
 ],
 "metadata": {
  "kernelspec": {
   "display_name": "Python 3",
   "language": "python",
   "name": "python3"
  },
  "language_info": {
   "codemirror_mode": {
    "name": "ipython",
    "version": 3
   },
   "file_extension": ".py",
   "mimetype": "text/x-python",
   "name": "python",
   "nbconvert_exporter": "python",
   "pygments_lexer": "ipython3",
   "version": "3.8.5"
  }
 },
 "nbformat": 4,
 "nbformat_minor": 4
}
